{
 "cells": [
  {
   "cell_type": "code",
   "execution_count": 1,
   "metadata": {
    "collapsed": true
   },
   "outputs": [],
   "source": [
    "import re\n",
    "import tweepy\n",
    "from textblob import TextBlob\n",
    "import json\n",
    "\n",
    "class TwitterClient(object):\n",
    " '''\n",
    "    Generic Twitter Class for sentiment analysis.\n",
    "'''\n",
    "\n",
    "def clean_tweet(tweet):\n",
    "    '''\n",
    "    Utility function to clean tweet text by removing links, special characters\n",
    "    using simple regex statements.\n",
    "    '''\n",
    "    return ' '.join(re.sub(\"(@[A-Za-z0-9]+)|([^0-9A-Za-z \\t])|(\\w+:\\/\\/\\S+)\", \" \", tweet).split())"
   ]
  },
  {
   "cell_type": "code",
   "execution_count": 2,
   "metadata": {
    "collapsed": true
   },
   "outputs": [],
   "source": [
    "def get_tweet_sentiment(tweet):\n",
    "    '''\n",
    "    Utility function to classify sentiment of passed tweet\n",
    "    using textblob's sentiment method\n",
    "    '''\n",
    "    # create TextBlob object of passed tweet text\n",
    "    analysis = TextBlob(tweet)\n",
    "    # set sentiment\n",
    "    if analysis.sentiment.polarity > 0:\n",
    "        return 'positive'\n",
    "    elif analysis.sentiment.polarity == 0:\n",
    "        return 'neutral'\n",
    "    else:\n",
    "        return 'negative'"
   ]
  },
  {
   "cell_type": "code",
   "execution_count": 3,
   "metadata": {
    "collapsed": true
   },
   "outputs": [],
   "source": [
    "def get_tweets(filename):\n",
    "    '''\n",
    "    Main function to fetch tweets and parse just the text part.\n",
    "    '''\n",
    "    import json\n",
    "\n",
    "    tweets={}\n",
    "    f = open('new_bts.json')\n",
    "    data = json.load(f)\n",
    "    \n",
    "    labeled = []\n",
    "    for tweet in data:\n",
    "         tweets = {'text': tweet[\"text\"], 'sentiment': get_tweet_sentiment(tweet[\"text\"])}\n",
    "         labeled.append(tweets)\n",
    "    return labeled\n",
    "        \n",
    "          \n",
    "   \n",
    " \n",
    "            \n",
    "     \n",
    "        \n",
    "            \n",
    "   \n",
    "            \n",
    "                \n",
    "            \n",
    "        \n",
    "    \n",
    "    \n",
    "\n",
    "\n",
    " \n",
    "    \n",
    "      \n"
   ]
  },
  {
   "cell_type": "code",
   "execution_count": 6,
   "metadata": {},
   "outputs": [
    {
     "name": "stdout",
     "output_type": "stream",
     "text": [
      "153\n",
      "Positive tweets percentage: 20.915032679738562 %\n",
      "Negative tweets percentage: 18.954248366013072 %\n",
      "Neutral tweets percentage: 60.130718954248366 %\n",
      "\n",
      "\n",
      "Positive tweets:\n",
      "RT @chartdata: BTS' 'Love Yourself - Her' drops off the Billboard 200 after 6 weeks. It's the longest charting k-pop album in Billboard 200…\n",
      "MOVE AWAY HOBI I HAVE A NEW SUNSHINE 😤 https://t.co/Kvqz9nXCHi\n",
      "RT @billboard: Check out BTS' new Twitter emoji to celebrate their AMAs performance announcement! #ARMYxAMAs… \n",
      "RT @Jungkook_news: PUMA x BTS Hug Winter Event - scroll thru the @BTS_twt campaign for some lovely photos 😍 https://t.co/3cCIeeGinr https:/…\n",
      "RT @thebookishfeels: MOVE AWAY HOBI I HAVE A NEW SUNSHINE 😤 https://t.co/Kvqz9nXCHi\n",
      "RT @jeon970: jhope the main vocalist in bts https://t.co/PSkxziQZu7\n",
      "RT @billboard: Check out BTS' new Twitter emoji to celebrate their AMAs performance announcement! #ARMYxAMAs… \n",
      "RT @billboard: Check out BTS' new Twitter emoji to celebrate their AMAs performance announcement! #ARMYxAMAs… \n",
      "i’m watching bts’ knowing bros episode and they’re playing stay with me love that\n",
      "RT @herforbts: If you're going to the AMA's, please be SUPER respectful to the one's attending. Cheer at the performers, welcome y… \n",
      "\n",
      "\n",
      "Negative tweets:\n",
      "RT @kimtaehyung_net: [RT PLZ] Dear US ARMY. I'm looking for AMA VIP ticket. If you have extra, please send me DM. 🙏🏻🙏🏻🙏🏻🙏🏻🙏🏻\n",
      "#BTS… \n",
      "RT @Iewisabelle: Can F*eeform give us bts, deleted scenes and bloopers of Shadowhunters??? We deserve all of this stuff I mean bitch… \n",
      "RT @Nartanim: [BTS UP NEXT]\n",
      "NOV19 -AMAs 5:00PM PST\n",
      "DEC1 - MAMA HK\n",
      "DEC2 - MMA Gocheok 7PM\n",
      "DEC4 -JIN BD\n",
      "DEC6 - 8th JPN ALB\n",
      "DEC8-10 WINGS FINA…\n",
      "RT @YonhapNews: (LEAD) BTS works with American musicians for 'MIC Drop' remix https://t.co/V275kzhe1T\n",
      "RT @SugaBase_: [INFO] #BTS will be releasing a remix version of MIC Drop on 17 Nov. Steve Aoki took part in the remix of MIC Drop… \n",
      "RT @TeenVogue: One person alleged that the criticism from BTS fans might be because K-pop fans are \"notoriously antiblack.\" https://t.co/Jp…\n",
      "RT @Bulletproof_SG: [NEWS] BTS will be releasing a remix version of MIC Drop on 17 Nov #방탄소년단 @BTS_twt https://t.co/ylpw5XMprP\n",
      "RT @kimtaehyung_net: [RT PLZ] Dear US ARMY. I'm looking for AMA VIP ticket. If you have extra, please send me DM. 🙏🏻🙏🏻🙏🏻🙏🏻🙏🏻\n",
      "#BTS… \n",
      "RT @BTS_ARMY_INT: @AMAs @BTS_twt Dear audience at AMAs that are not aware of BTS, you will see on that stage the accumulation of 7 me… \n",
      "@SBSPopAsia @SBSPOPASIA I THINK YOU WROTE YOUR COVER TITLE WRONG BECAUSE I WOULDN'T CALL IT THAT. I WOULD CALL IT \"… https://t.co/u3aFdB8id9\n"
     ]
    }
   ],
   "source": [
    "def main():\n",
    "    # creating object of TwitterClient Class\n",
    "    ptweet = []\n",
    "    ntweet = []\n",
    "    netweet = []\n",
    " \n",
    "    # calling function to get tweets\n",
    "    tweet = get_tweets('new_bts.json')\n",
    "    print(len(tweet))\n",
    "    # picking positive tweets from tweets\n",
    "    for t in tweet:\n",
    "        \n",
    "        if t['sentiment'] == 'positive':\n",
    "            ptweet.append(t)\n",
    "    \n",
    "   \n",
    "        \n",
    "        elif t['sentiment'] == 'negative':\n",
    "            ntweet.append(t)\n",
    "            \n",
    "        elif t['sentiment'] == 'neutral':\n",
    "            netweet.append(t)\n",
    "      \n",
    "            \n",
    "\n",
    "    # percentage of positive tweets\n",
    "    print(\"Positive tweets percentage: {} %\".format(100*len(ptweet)/len(tweet)))\n",
    "    # picking negative tweets from tweets\n",
    "    ntweet = [tweet for tweet in tweet if tweet['sentiment'] == 'negative']\n",
    "    # percentage of negative tweets\n",
    "    print(\"Negative tweets percentage: {} %\".format(100*len(ntweet)/len(tweet)))\n",
    "    # percentage of neutral tweets\n",
    "    print(\"Neutral tweets percentage: {} %\".format(100*len(netweet)/len(tweet)))\n",
    " \n",
    "    # printing first 5 positive tweets\n",
    "    print(\"\\n\\nPositive tweets:\")\n",
    "    for tweet in ptweet[:10]:\n",
    "        print(tweet['text'])\n",
    " \n",
    "    # printing first 5 negative tweets\n",
    "    print(\"\\n\\nNegative tweets:\")\n",
    "    for tweet in ntweet[:10]:\n",
    "        print(tweet['text'])\n",
    "    \n",
    "    \n",
    " \n",
    "if __name__ == \"__main__\":\n",
    "    # calling main function\n",
    "    main()"
   ]
  },
  {
   "cell_type": "code",
   "execution_count": null,
   "metadata": {
    "collapsed": true
   },
   "outputs": [],
   "source": []
  },
  {
   "cell_type": "code",
   "execution_count": null,
   "metadata": {
    "collapsed": true
   },
   "outputs": [],
   "source": []
  }
 ],
 "metadata": {
  "kernelspec": {
   "display_name": "Python 3",
   "language": "python",
   "name": "python3"
  },
  "language_info": {
   "codemirror_mode": {
    "name": "ipython",
    "version": 3
   },
   "file_extension": ".py",
   "mimetype": "text/x-python",
   "name": "python",
   "nbconvert_exporter": "python",
   "pygments_lexer": "ipython3",
   "version": "3.6.3"
  }
 },
 "nbformat": 4,
 "nbformat_minor": 2
}
