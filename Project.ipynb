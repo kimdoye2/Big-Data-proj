{
 "cells": [
  {
   "cell_type": "code",
   "execution_count": 3,
   "metadata": {},
   "outputs": [],
   "source": [
    "import tweepy\n",
    "import time\n",
    "from tweepy import OAuthHandler\n",
    "from tweepy import API\n",
    "from tweepy.streaming import StreamListener\n",
    "from tweepy import Stream\n",
    "\n",
    "C_KEY = 'TR4gOd7J3cA5qCpWAMPj9Y9ls'\n",
    "C_SECRET = 'QbqygSH6yR5heLvXhgZSomZPDRhJUowYEWfskj14G3lJ03EFJv'\n",
    "A_TOKEN_KEY = '908444306867998720-p0yN6CSH2oM5xmVX2qxrW12vX03VLBP'\n",
    "A_TOKEN_SECRET = 'ZOv9Doo3DjC4oOqnGSONlEFX7DaG3AseMbveCUO3jn2Tw'\n",
    "\n",
    "# create a StreamListener class ADAPTED from lecture notes\n",
    "class MyListener(StreamListener):\n",
    "    def __init__(self, time_limit=10):\n",
    "        self.start_time = time.time()\n",
    "        self.limit = time_limit\n",
    "        self.outFile = open('bts.json', 'w')\n",
    "        super(MyListener, self).__init__()\n",
    "        \n",
    "    def on_data(self, data):\n",
    "        if (time.time() - self.start_time) < self.limit:\n",
    "            self.outFile.write(data)\n",
    "            #self.outFile.write('\\n')\n",
    "            return True\n",
    "        else:\n",
    "            self.outFile.close()\n",
    "            return False\n",
    "        \n",
    "    def on_error(self, status):\n",
    "        print(status)\n",
    "\n",
    "auth = tweepy.OAuthHandler(C_KEY, C_SECRET)\n",
    "auth.set_access_token(A_TOKEN_KEY, A_TOKEN_SECRET)\n",
    "api = tweepy.API(auth)\n",
    "\n",
    "myStream = Stream(auth, MyListener(time_limit=30))\n",
    "myStream.filter(track=['BTS'])"
   ]
  },
  {
   "cell_type": "code",
   "execution_count": 4,
   "metadata": {},
   "outputs": [
    {
     "data": {
      "text/plain": [
       "595"
      ]
     },
     "execution_count": 4,
     "metadata": {},
     "output_type": "execute_result"
    }
   ],
   "source": [
    "import json\n",
    "data = []\n",
    "with open('bts.json') as f:\n",
    "    for line in f:\n",
    "        data.append(json.loads(line))\n",
    "len(data)"
   ]
  },
  {
   "cell_type": "code",
   "execution_count": 5,
   "metadata": {},
   "outputs": [
    {
     "data": {
      "text/plain": [
       "211"
      ]
     },
     "execution_count": 5,
     "metadata": {},
     "output_type": "execute_result"
    }
   ],
   "source": [
    "#drop retweet data and geo attribute is null\n",
    "\n",
    "order = 0\n",
    "for d in data:\n",
    "#     print d.keys()\n",
    "    if('retweeted_status' in d):\n",
    "        del data[order]\n",
    "        if('coordinates' in d):\n",
    "            if None == d['coordinates']:\n",
    "                del data[order]\n",
    "\n",
    "    order += 1\n",
    "len(data)"
   ]
  },
  {
   "cell_type": "code",
   "execution_count": 6,
   "metadata": {
    "collapsed": true
   },
   "outputs": [],
   "source": [
    "#saved droped data in new file\n",
    "import json\n",
    "with open('new_bts.json', 'w') as fout:\n",
    "    json.dump(data, fout)"
   ]
  },
  {
   "cell_type": "code",
   "execution_count": 7,
   "metadata": {
    "scrolled": true
   },
   "outputs": [
    {
     "data": {
      "text/plain": [
       "211"
      ]
     },
     "execution_count": 7,
     "metadata": {},
     "output_type": "execute_result"
    }
   ],
   "source": [
    "#chcking new saving json is correctly saved\n",
    "df = []\n",
    "with open('bts.json') as f:\n",
    "    for line in f:\n",
    "        df.append(json.loads(line))\n",
    "len(data)"
   ]
  },
  {
   "cell_type": "code",
   "execution_count": null,
   "metadata": {
    "collapsed": true
   },
   "outputs": [],
   "source": []
  },
  {
   "cell_type": "code",
   "execution_count": null,
   "metadata": {
    "collapsed": true
   },
   "outputs": [],
   "source": []
  }
 ],
 "metadata": {
  "kernelspec": {
   "display_name": "Python 3",
   "language": "python",
   "name": "python3"
  },
  "language_info": {
   "codemirror_mode": {
    "name": "ipython",
    "version": 3
   },
   "file_extension": ".py",
   "mimetype": "text/x-python",
   "name": "python",
   "nbconvert_exporter": "python",
   "pygments_lexer": "ipython3",
   "version": "3.6.3"
  }
 },
 "nbformat": 4,
 "nbformat_minor": 2
}
